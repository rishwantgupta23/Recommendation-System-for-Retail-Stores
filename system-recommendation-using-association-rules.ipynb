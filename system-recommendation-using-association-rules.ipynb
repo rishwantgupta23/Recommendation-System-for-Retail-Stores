{
 "cells": [
  {
   "cell_type": "markdown",
   "metadata": {
    "papermill": {
     "duration": 0.022475,
     "end_time": "2021-02-04T01:51:06.353827",
     "exception": false,
     "start_time": "2021-02-04T01:51:06.331352",
     "status": "completed"
    },
    "tags": []
   },
   "source": [
    "# Grocery Store System Recommendation / Sistema de Recomendación para una tienda de abarrotes usando un modelo de reglas de asociación****"
   ]
  },
  {
   "cell_type": "markdown",
   "metadata": {
    "papermill": {
     "duration": 0.01623,
     "end_time": "2021-02-04T01:51:06.389564",
     "exception": false,
     "start_time": "2021-02-04T01:51:06.373334",
     "status": "completed"
    },
    "tags": []
   },
   "source": [
    "### Author: Gustavo t.g\n",
    "### Filename: Greocery Store System Recommendation\n",
    "### Creation Date : 24/01/2021"
   ]
  },
  {
   "cell_type": "markdown",
   "metadata": {
    "papermill": {
     "duration": 0.016262,
     "end_time": "2021-02-04T01:51:06.422176",
     "exception": false,
     "start_time": "2021-02-04T01:51:06.405914",
     "status": "completed"
    },
    "tags": []
   },
   "source": [
    "## 1.- Loading libraries and data"
   ]
  },
  {
   "cell_type": "code",
   "execution_count": 1,
   "metadata": {
    "execution": {
     "iopub.execute_input": "2021-02-04T01:51:06.487504Z",
     "iopub.status.busy": "2021-02-04T01:51:06.484945Z",
     "iopub.status.idle": "2021-02-04T01:51:10.852148Z",
     "shell.execute_reply": "2021-02-04T01:51:10.850644Z"
    },
    "papermill": {
     "duration": 4.415122,
     "end_time": "2021-02-04T01:51:10.853451",
     "exception": false,
     "start_time": "2021-02-04T01:51:06.438329",
     "status": "completed"
    },
    "tags": []
   },
   "outputs": [
    {
     "name": "stderr",
     "output_type": "stream",
     "text": [
      "Loading required package: Matrix\n",
      "\n",
      "\n",
      "Attaching package: ‘arules’\n",
      "\n",
      "\n",
      "The following objects are masked from ‘package:base’:\n",
      "\n",
      "    abbreviate, write\n",
      "\n",
      "\n"
     ]
    }
   ],
   "source": [
    "#all lines with this \"#\" symbol is a comment, the rest are code lines\n",
    "library(\"arules\")\n",
    "#abarrotes=Grocery Store.csv\n",
    "abarrote<-read.transactions(\"../input/grocery-store-data/Grocery Store.csv\", sep=\",\")\n"
   ]
  },
  {
   "cell_type": "markdown",
   "metadata": {
    "papermill": {
     "duration": 0.017522,
     "end_time": "2021-02-04T01:51:10.890960",
     "exception": false,
     "start_time": "2021-02-04T01:51:10.873438",
     "status": "completed"
    },
    "tags": []
   },
   "source": [
    "## 2.- preparing data"
   ]
  },
  {
   "cell_type": "code",
   "execution_count": 2,
   "metadata": {
    "execution": {
     "iopub.execute_input": "2021-02-04T01:51:10.978751Z",
     "iopub.status.busy": "2021-02-04T01:51:10.931330Z",
     "iopub.status.idle": "2021-02-04T01:51:11.022754Z",
     "shell.execute_reply": "2021-02-04T01:51:11.020578Z"
    },
    "papermill": {
     "duration": 0.114415,
     "end_time": "2021-02-04T01:51:11.022985",
     "exception": false,
     "start_time": "2021-02-04T01:51:10.908570",
     "status": "completed"
    },
    "tags": []
   },
   "outputs": [
    {
     "data": {
      "text/plain": [
       "transactions as itemMatrix in sparse format with\n",
       " 9835 rows (elements/itemsets/transactions) and\n",
       " 169 columns (items) and a density of 0.02609146 \n",
       "\n",
       "most frequent items:\n",
       "      whole milk other vegetables       rolls/buns             soda \n",
       "            2513             1903             1809             1715 \n",
       "          yogurt          (Other) \n",
       "            1372            34055 \n",
       "\n",
       "element (itemset/transaction) length distribution:\n",
       "sizes\n",
       "   1    2    3    4    5    6    7    8    9   10   11   12   13   14   15   16 \n",
       "2159 1643 1299 1005  855  645  545  438  350  246  182  117   78   77   55   46 \n",
       "  17   18   19   20   21   22   23   24   26   27   28   29   32 \n",
       "  29   14   14    9   11    4    6    1    1    1    1    3    1 \n",
       "\n",
       "   Min. 1st Qu.  Median    Mean 3rd Qu.    Max. \n",
       "  1.000   2.000   3.000   4.409   6.000  32.000 \n",
       "\n",
       "includes extended item information - examples:\n",
       "            labels\n",
       "1 abrasive cleaner\n",
       "2 artif. sweetener\n",
       "3   baby cosmetics"
      ]
     },
     "metadata": {},
     "output_type": "display_data"
    }
   ],
   "source": [
    "#basic information about abarrote data like number of columns, rows, numeber of variables etc\n",
    "summary(abarrote)"
   ]
  },
  {
   "cell_type": "code",
   "execution_count": 3,
   "metadata": {
    "execution": {
     "iopub.execute_input": "2021-02-04T01:51:11.068354Z",
     "iopub.status.busy": "2021-02-04T01:51:11.066337Z",
     "iopub.status.idle": "2021-02-04T01:51:11.106204Z",
     "shell.execute_reply": "2021-02-04T01:51:11.103374Z"
    },
    "papermill": {
     "duration": 0.065218,
     "end_time": "2021-02-04T01:51:11.106391",
     "exception": false,
     "start_time": "2021-02-04T01:51:11.041173",
     "status": "completed"
    },
    "tags": []
   },
   "outputs": [
    {
     "name": "stdout",
     "output_type": "stream",
     "text": [
      "    items                     \n",
      "[1] {citrus fruit,            \n",
      "     margarine,               \n",
      "     ready soups,             \n",
      "     semi-finished bread}     \n",
      "[2] {coffee,                  \n",
      "     tropical fruit,          \n",
      "     yogurt}                  \n",
      "[3] {whole milk}              \n",
      "[4] {cream cheese,            \n",
      "     meat spreads,            \n",
      "     pip fruit,               \n",
      "     yogurt}                  \n",
      "[5] {condensed milk,          \n",
      "     long life bakery product,\n",
      "     other vegetables,        \n",
      "     whole milk}              \n"
     ]
    }
   ],
   "source": [
    "#I wantto see the first 5 rows and columns about abarrotes\n",
    "\n",
    "inspect(abarrote[1:5])"
   ]
  },
  {
   "cell_type": "code",
   "execution_count": 4,
   "metadata": {
    "execution": {
     "iopub.execute_input": "2021-02-04T01:51:11.169007Z",
     "iopub.status.busy": "2021-02-04T01:51:11.168055Z",
     "iopub.status.idle": "2021-02-04T01:51:11.203191Z",
     "shell.execute_reply": "2021-02-04T01:51:11.201603Z"
    },
    "papermill": {
     "duration": 0.06748,
     "end_time": "2021-02-04T01:51:11.203357",
     "exception": false,
     "start_time": "2021-02-04T01:51:11.135877",
     "status": "completed"
    },
    "tags": []
   },
   "outputs": [
    {
     "data": {
      "text/html": [
       "<style>\n",
       ".dl-inline {width: auto; margin:0; padding: 0}\n",
       ".dl-inline>dt, .dl-inline>dd {float: none; width: auto; display: inline-block}\n",
       ".dl-inline>dt::after {content: \":\\0020\"; padding-right: .5ex}\n",
       ".dl-inline>dt:not(:first-of-type) {padding-left: .5ex}\n",
       "</style><dl class=dl-inline><dt>abrasive cleaner</dt><dd>0.00355871886120996</dd><dt>artif. sweetener</dt><dd>0.0032536858159634</dd><dt>baby cosmetics</dt><dd>0.000610066090493137</dd></dl>\n"
      ],
      "text/latex": [
       "\\begin{description*}\n",
       "\\item[abrasive cleaner] 0.00355871886120996\n",
       "\\item[artif. sweetener] 0.0032536858159634\n",
       "\\item[baby cosmetics] 0.000610066090493137\n",
       "\\end{description*}\n"
      ],
      "text/markdown": [
       "abrasive cleaner\n",
       ":   0.00355871886120996artif. sweetener\n",
       ":   0.0032536858159634baby cosmetics\n",
       ":   0.000610066090493137\n",
       "\n"
      ],
      "text/plain": [
       "abrasive cleaner artif. sweetener   baby cosmetics \n",
       "    0.0035587189     0.0032536858     0.0006100661 "
      ]
     },
     "metadata": {},
     "output_type": "display_data"
    }
   ],
   "source": [
    "#I want to know the proportion or porcentage of my first products\n",
    "itemFrequency(abarrote[,1:3])\n",
    "\n",
    "#Abrasive cleaners and artificial sweeteners are found in 0.3% of the\n",
    "#transactions, while baby cosmetics are at 0.06% of transactions."
   ]
  },
  {
   "cell_type": "markdown",
   "metadata": {
    "papermill": {
     "duration": 0.018758,
     "end_time": "2021-02-04T01:51:11.242257",
     "exception": false,
     "start_time": "2021-02-04T01:51:11.223499",
     "status": "completed"
    },
    "tags": []
   },
   "source": [
    "## 3.- Data Visualization / Visualización de datos"
   ]
  },
  {
   "cell_type": "code",
   "execution_count": 5,
   "metadata": {
    "execution": {
     "iopub.execute_input": "2021-02-04T01:51:11.285906Z",
     "iopub.status.busy": "2021-02-04T01:51:11.284773Z",
     "iopub.status.idle": "2021-02-04T01:51:11.828455Z",
     "shell.execute_reply": "2021-02-04T01:51:11.825582Z"
    },
    "papermill": {
     "duration": 0.566438,
     "end_time": "2021-02-04T01:51:11.828701",
     "exception": false,
     "start_time": "2021-02-04T01:51:11.262263",
     "status": "completed"
    },
    "tags": []
   },
   "outputs": [
    {
     "data": {
      "image/png": "[encoded data removed]"
     },
     "metadata": {
      "image/png": {
       "height": 420,
       "width": 420
      }
     },
     "output_type": "display_data"
    }
   ],
   "source": [
    "\n",
    "#fequency Table \n",
    "#I use 0.1 support because I want to see only products with  a porcentage greater to 10% of transaction \n",
    "#in other words I a want to see the best sell products\n",
    "itemFrequencyPlot(abarrote,support=0.1)"
   ]
  },
  {
   "cell_type": "code",
   "execution_count": 6,
   "metadata": {
    "execution": {
     "iopub.execute_input": "2021-02-04T01:51:11.877808Z",
     "iopub.status.busy": "2021-02-04T01:51:11.875575Z",
     "iopub.status.idle": "2021-02-04T01:51:12.054877Z",
     "shell.execute_reply": "2021-02-04T01:51:12.052273Z"
    },
    "papermill": {
     "duration": 0.205547,
     "end_time": "2021-02-04T01:51:12.055108",
     "exception": false,
     "start_time": "2021-02-04T01:51:11.849561",
     "status": "completed"
    },
    "tags": []
   },
   "outputs": [
    {
     "data": {
      "image/png": "[encoded data removed]"
     },
     "metadata": {
      "image/png": {
       "height": 420,
       "width": 420
      }
     },
     "output_type": "display_data"
    }
   ],
   "source": [
    "#now a higher parameter..0.20\n",
    "itemFrequencyPlot(abarrote,support=0.20)\n",
    "#just milk satisfy this condition of 0.20"
   ]
  },
  {
   "cell_type": "code",
   "execution_count": 7,
   "metadata": {
    "execution": {
     "iopub.execute_input": "2021-02-04T01:51:12.127701Z",
     "iopub.status.busy": "2021-02-04T01:51:12.126356Z",
     "iopub.status.idle": "2021-02-04T01:51:12.275397Z",
     "shell.execute_reply": "2021-02-04T01:51:12.272997Z"
    },
    "papermill": {
     "duration": 0.186369,
     "end_time": "2021-02-04T01:51:12.275623",
     "exception": false,
     "start_time": "2021-02-04T01:51:12.089254",
     "status": "completed"
    },
    "tags": []
   },
   "outputs": [
    {
     "data": {
      "image/png": "[encoded data removed]"
     },
     "metadata": {
      "image/png": {
       "height": 420,
       "width": 420
      }
     },
     "output_type": "display_data"
    }
   ],
   "source": [
    "#My Matrix\n",
    "image(abarrote[1:5])\n",
    "#The resulting diagram shows a matrix with 5 rows and 169 columns, indicating the 5 transactions imaand 169 possible elements we request."
   ]
  },
  {
   "cell_type": "code",
   "execution_count": 8,
   "metadata": {
    "execution": {
     "iopub.execute_input": "2021-02-04T01:51:12.328677Z",
     "iopub.status.busy": "2021-02-04T01:51:12.328178Z",
     "iopub.status.idle": "2021-02-04T01:51:12.524337Z",
     "shell.execute_reply": "2021-02-04T01:51:12.522534Z"
    },
    "papermill": {
     "duration": 0.225041,
     "end_time": "2021-02-04T01:51:12.524516",
     "exception": false,
     "start_time": "2021-02-04T01:51:12.299475",
     "status": "completed"
    },
    "tags": []
   },
   "outputs": [
    {
     "data": {
      "image/png": "[encoded data removed]"
     },
     "metadata": {
      "image/png": {
       "height": 420,
       "width": 420
      }
     },
     "output_type": "display_data"
    }
   ],
   "source": [
    "image(sample(abarrote,100))\n",
    "#this function generated a 100x169 matriz, 100 potential consumers and 169 possible groceries products"
   ]
  },
  {
   "cell_type": "markdown",
   "metadata": {
    "papermill": {
     "duration": 0.024385,
     "end_time": "2021-02-04T01:51:12.573147",
     "exception": false,
     "start_time": "2021-02-04T01:51:12.548762",
     "status": "completed"
    },
    "tags": []
   },
   "source": [
    "# 4.-Modeling the recommendation System using association rules / Modelo de recomendación usando reglas de Asociación"
   ]
  },
  {
   "cell_type": "code",
   "execution_count": 9,
   "metadata": {
    "execution": {
     "iopub.execute_input": "2021-02-04T01:51:12.627771Z",
     "iopub.status.busy": "2021-02-04T01:51:12.626996Z",
     "iopub.status.idle": "2021-02-04T01:51:12.637122Z",
     "shell.execute_reply": "2021-02-04T01:51:12.635452Z"
    },
    "papermill": {
     "duration": 0.039501,
     "end_time": "2021-02-04T01:51:12.637283",
     "exception": false,
     "start_time": "2021-02-04T01:51:12.597782",
     "status": "completed"
    },
    "tags": []
   },
   "outputs": [],
   "source": [
    "# finally finishing our preparing data and our data visualization is time to build our modell\n",
    "#Una vez preparados nuestros datos y terminada nuestra visualización de datos es tiempo de construir nuestro modelo usando reglas de asociación\n",
    "#En esta parte usare la funcion apriori() para el modelo de asociación"
   ]
  },
  {
   "cell_type": "code",
   "execution_count": 10,
   "metadata": {
    "execution": {
     "iopub.execute_input": "2021-02-04T01:51:12.692077Z",
     "iopub.status.busy": "2021-02-04T01:51:12.690363Z",
     "iopub.status.idle": "2021-02-04T01:51:12.700752Z",
     "shell.execute_reply": "2021-02-04T01:51:12.699544Z"
    },
    "papermill": {
     "duration": 0.038861,
     "end_time": "2021-02-04T01:51:12.700922",
     "exception": false,
     "start_time": "2021-02-04T01:51:12.662061",
     "status": "completed"
    },
    "tags": []
   },
   "outputs": [],
   "source": [
    "#For example, you could argue that if an item is purchased twice a day (about 60 times in a month of data), it may be\n",
    "#an interesting pattern. From there, it is possible to calculate the level of support needed to find\n",
    "#only the rules that match at least as many transactions. Since 60 of 9,835 is equal to 0.006,\n",
    "#we will first try to configure support there."
   ]
  },
  {
   "cell_type": "code",
   "execution_count": 11,
   "metadata": {
    "execution": {
     "iopub.execute_input": "2021-02-04T01:51:12.757839Z",
     "iopub.status.busy": "2021-02-04T01:51:12.756815Z",
     "iopub.status.idle": "2021-02-04T01:51:12.824181Z",
     "shell.execute_reply": "2021-02-04T01:51:12.822505Z"
    },
    "papermill": {
     "duration": 0.099395,
     "end_time": "2021-02-04T01:51:12.824346",
     "exception": false,
     "start_time": "2021-02-04T01:51:12.724951",
     "status": "completed"
    },
    "tags": []
   },
   "outputs": [
    {
     "name": "stdout",
     "output_type": "stream",
     "text": [
      "Apriori\n",
      "\n",
      "Parameter specification:\n",
      " confidence minval smax arem  aval originalSupport maxtime support minlen\n",
      "       0.25    0.1    1 none FALSE            TRUE       5   0.006      2\n",
      " maxlen target  ext\n",
      "     10  rules TRUE\n",
      "\n",
      "Algorithmic control:\n",
      " filter tree heap memopt load sort verbose\n",
      "    0.1 TRUE TRUE  FALSE TRUE    2    TRUE\n",
      "\n",
      "Absolute minimum support count: 59 \n",
      "\n",
      "set item appearances ...[0 item(s)] done [0.00s].\n",
      "set transactions ...[169 item(s), 9835 transaction(s)] done [0.01s].\n",
      "sorting and recoding items ... [109 item(s)] done [0.00s].\n",
      "creating transaction tree ... done [0.00s].\n",
      "checking subsets of size 1 2 3 4 done [0.00s].\n",
      "writing ... [463 rule(s)] done [0.00s].\n",
      "creating S4 object  ... done [0.00s].\n"
     ]
    },
    {
     "data": {
      "text/plain": [
       "set of 463 rules "
      ]
     },
     "metadata": {},
     "output_type": "display_data"
    }
   ],
   "source": [
    "groceryrules<-apriori(data= abarrote, parameter= list(support=0.006, confidence=0.25, minlen=2 ))\n",
    "groceryrules"
   ]
  },
  {
   "cell_type": "markdown",
   "metadata": {
    "papermill": {
     "duration": 0.025114,
     "end_time": "2021-02-04T01:51:12.875377",
     "exception": false,
     "start_time": "2021-02-04T01:51:12.850263",
     "status": "completed"
    },
    "tags": []
   },
   "source": [
    "# 5.-evaluating model performance / Evaluamos el Desemepeño"
   ]
  },
  {
   "cell_type": "code",
   "execution_count": 12,
   "metadata": {
    "execution": {
     "iopub.execute_input": "2021-02-04T01:51:12.931544Z",
     "iopub.status.busy": "2021-02-04T01:51:12.930266Z",
     "iopub.status.idle": "2021-02-04T01:51:12.961591Z",
     "shell.execute_reply": "2021-02-04T01:51:12.960397Z"
    },
    "papermill": {
     "duration": 0.060825,
     "end_time": "2021-02-04T01:51:12.961724",
     "exception": false,
     "start_time": "2021-02-04T01:51:12.900899",
     "status": "completed"
    },
    "tags": []
   },
   "outputs": [
    {
     "data": {
      "text/plain": [
       "set of 463 rules\n",
       "\n",
       "rule length distribution (lhs + rhs):sizes\n",
       "  2   3   4 \n",
       "150 297  16 \n",
       "\n",
       "   Min. 1st Qu.  Median    Mean 3rd Qu.    Max. \n",
       "  2.000   2.000   3.000   2.711   3.000   4.000 \n",
       "\n",
       "summary of quality measures:\n",
       "    support           confidence        coverage             lift       \n",
       " Min.   :0.006101   Min.   :0.2500   Min.   :0.009964   Min.   :0.9932  \n",
       " 1st Qu.:0.007117   1st Qu.:0.2971   1st Qu.:0.018709   1st Qu.:1.6229  \n",
       " Median :0.008744   Median :0.3554   Median :0.024809   Median :1.9332  \n",
       " Mean   :0.011539   Mean   :0.3786   Mean   :0.032608   Mean   :2.0351  \n",
       " 3rd Qu.:0.012303   3rd Qu.:0.4495   3rd Qu.:0.035892   3rd Qu.:2.3565  \n",
       " Max.   :0.074835   Max.   :0.6600   Max.   :0.255516   Max.   :3.9565  \n",
       "     count      \n",
       " Min.   : 60.0  \n",
       " 1st Qu.: 70.0  \n",
       " Median : 86.0  \n",
       " Mean   :113.5  \n",
       " 3rd Qu.:121.0  \n",
       " Max.   :736.0  \n",
       "\n",
       "mining info:\n",
       "     data ntransactions support confidence\n",
       " abarrote          9835   0.006       0.25"
      ]
     },
     "metadata": {},
     "output_type": "display_data"
    }
   ],
   "source": [
    "summary(groceryrules)"
   ]
  },
  {
   "cell_type": "code",
   "execution_count": 13,
   "metadata": {
    "execution": {
     "iopub.execute_input": "2021-02-04T01:51:13.018626Z",
     "iopub.status.busy": "2021-02-04T01:51:13.017611Z",
     "iopub.status.idle": "2021-02-04T01:51:13.041962Z",
     "shell.execute_reply": "2021-02-04T01:51:13.041313Z"
    },
    "papermill": {
     "duration": 0.05453,
     "end_time": "2021-02-04T01:51:13.042121",
     "exception": false,
     "start_time": "2021-02-04T01:51:12.987591",
     "status": "completed"
    },
    "tags": []
   },
   "outputs": [
    {
     "name": "stdout",
     "output_type": "stream",
     "text": [
      "    lhs             rhs               support     confidence coverage  \n",
      "[1] {pot plants} => {whole milk}      0.006914082 0.4000000  0.01728521\n",
      "[2] {pasta}      => {whole milk}      0.006100661 0.4054054  0.01504830\n",
      "[3] {herbs}      => {root vegetables} 0.007015760 0.4312500  0.01626843\n",
      "    lift     count\n",
      "[1] 1.565460 68   \n",
      "[2] 1.586614 60   \n",
      "[3] 3.956477 69   \n"
     ]
    }
   ],
   "source": [
    "inspect(groceryrules[1:3])\n",
    "\n",
    "#the first line is easy to read if one person buy pot plants is probabily buy as well whole milk\n",
    "#With the support of 0.007 and the confidence of 0.400, we can determine that this rule covers 0.7 percent of transactions and is correct in 40% of purchases involving potted plants"
   ]
  },
  {
   "cell_type": "code",
   "execution_count": 14,
   "metadata": {
    "execution": {
     "iopub.execute_input": "2021-02-04T01:51:13.101581Z",
     "iopub.status.busy": "2021-02-04T01:51:13.099618Z",
     "iopub.status.idle": "2021-02-04T01:51:13.110984Z",
     "shell.execute_reply": "2021-02-04T01:51:13.109663Z"
    },
    "papermill": {
     "duration": 0.042408,
     "end_time": "2021-02-04T01:51:13.111207",
     "exception": false,
     "start_time": "2021-02-04T01:51:13.068799",
     "status": "completed"
    },
    "tags": []
   },
   "outputs": [],
   "source": [
    "#La primera regla se puede leer en un lenguaje sencillo, \"si un cliente compra plantas en macetas, es 1.5veces probable que también compre leche entera\". Con el soporte de 0.007 y la confianza de 0.400,\n",
    "#podemos determinar que esta regla cubre el 0.7 por ciento de las transacciones y es correcta en el 40%\n",
    "#de las compras que involucran plantas en macetas"
   ]
  },
  {
   "cell_type": "code",
   "execution_count": 15,
   "metadata": {
    "execution": {
     "iopub.execute_input": "2021-02-04T01:51:13.170888Z",
     "iopub.status.busy": "2021-02-04T01:51:13.168994Z",
     "iopub.status.idle": "2021-02-04T01:51:13.180337Z",
     "shell.execute_reply": "2021-02-04T01:51:13.178910Z"
    },
    "papermill": {
     "duration": 0.041951,
     "end_time": "2021-02-04T01:51:13.180489",
     "exception": false,
     "start_time": "2021-02-04T01:51:13.138538",
     "status": "completed"
    },
    "tags": []
   },
   "outputs": [],
   "source": [
    "# milk and plants? is something freaky? How can we make sense of this fact?"
   ]
  },
  {
   "cell_type": "markdown",
   "metadata": {
    "papermill": {
     "duration": 0.026723,
     "end_time": "2021-02-04T01:51:13.234777",
     "exception": false,
     "start_time": "2021-02-04T01:51:13.208054",
     "status": "completed"
    },
    "tags": []
   },
   "source": [
    "## 6.- Improve Model Performance / Mejoramos nuestro modelo"
   ]
  },
  {
   "cell_type": "code",
   "execution_count": 16,
   "metadata": {
    "execution": {
     "iopub.execute_input": "2021-02-04T01:51:13.294106Z",
     "iopub.status.busy": "2021-02-04T01:51:13.292342Z",
     "iopub.status.idle": "2021-02-04T01:51:13.303648Z",
     "shell.execute_reply": "2021-02-04T01:51:13.302588Z"
    },
    "papermill": {
     "duration": 0.042461,
     "end_time": "2021-02-04T01:51:13.303787",
     "exception": false,
     "start_time": "2021-02-04T01:51:13.261326",
     "status": "completed"
    },
    "tags": []
   },
   "outputs": [],
   "source": [
    "#ORDER THE ASSOCIATION RULES SET\n",
    "#the most useful rules might be the ones have the greatest support, trust or sustenance\n",
    "# las reglas más útiles podrían ser las que tengan el mayor nivel de soporte, confianza y sustento"
   ]
  },
  {
   "cell_type": "code",
   "execution_count": 17,
   "metadata": {
    "execution": {
     "iopub.execute_input": "2021-02-04T01:51:13.362591Z",
     "iopub.status.busy": "2021-02-04T01:51:13.360990Z",
     "iopub.status.idle": "2021-02-04T01:51:13.449079Z",
     "shell.execute_reply": "2021-02-04T01:51:13.448542Z"
    },
    "papermill": {
     "duration": 0.118959,
     "end_time": "2021-02-04T01:51:13.449214",
     "exception": false,
     "start_time": "2021-02-04T01:51:13.330255",
     "status": "completed"
    },
    "tags": []
   },
   "outputs": [
    {
     "name": "stdout",
     "output_type": "stream",
     "text": [
      "    lhs                   rhs                      support confidence   coverage     lift count\n",
      "[1] {herbs}            => {root vegetables}    0.007015760  0.4312500 0.01626843 3.956477    69\n",
      "[2] {berries}          => {whipped/sour cream} 0.009049314  0.2721713 0.03324860 3.796886    89\n",
      "[3] {other vegetables,                                                                         \n",
      "     tropical fruit,                                                                           \n",
      "     whole milk}       => {root vegetables}    0.007015760  0.4107143 0.01708185 3.768074    69\n",
      "[4] {beef,                                                                                     \n",
      "     other vegetables} => {root vegetables}    0.007930859  0.4020619 0.01972547 3.688692    78\n",
      "[5] {other vegetables,                                                                         \n",
      "     tropical fruit}   => {pip fruit}          0.009456024  0.2634561 0.03589222 3.482649    93\n"
     ]
    }
   ],
   "source": [
    "inspect(sort(groceryrules, by=\"lift\")[1:5])\n",
    "#this new rules looks so interesting than others"
   ]
  },
  {
   "cell_type": "code",
   "execution_count": 18,
   "metadata": {
    "execution": {
     "iopub.execute_input": "2021-02-04T01:51:13.508837Z",
     "iopub.status.busy": "2021-02-04T01:51:13.507471Z",
     "iopub.status.idle": "2021-02-04T01:51:13.517219Z",
     "shell.execute_reply": "2021-02-04T01:51:13.516691Z"
    },
    "papermill": {
     "duration": 0.041163,
     "end_time": "2021-02-04T01:51:13.517352",
     "exception": false,
     "start_time": "2021-02-04T01:51:13.476189",
     "status": "completed"
    },
    "tags": []
   },
   "outputs": [],
   "source": [
    "#La primera regla, con un sustento de aproximadamente 3.96, implica que las personas que compran hierbas tienen casi cuatro veces más probabilidades de comprar vegetales de raíz que el cliente típico,\n"
   ]
  },
  {
   "cell_type": "code",
   "execution_count": 19,
   "metadata": {
    "execution": {
     "iopub.execute_input": "2021-02-04T01:51:13.577787Z",
     "iopub.status.busy": "2021-02-04T01:51:13.576382Z",
     "iopub.status.idle": "2021-02-04T01:51:13.604231Z",
     "shell.execute_reply": "2021-02-04T01:51:13.603068Z"
    },
    "papermill": {
     "duration": 0.059531,
     "end_time": "2021-02-04T01:51:13.604360",
     "exception": false,
     "start_time": "2021-02-04T01:51:13.544829",
     "status": "completed"
    },
    "tags": []
   },
   "outputs": [
    {
     "data": {
      "text/plain": [
       "set of 4 rules "
      ]
     },
     "metadata": {},
     "output_type": "display_data"
    }
   ],
   "source": [
    "berryrules <- subset(groceryrules, items %in% \"berries\")\n",
    "berryrules"
   ]
  },
  {
   "cell_type": "code",
   "execution_count": 20,
   "metadata": {
    "execution": {
     "iopub.execute_input": "2021-02-04T01:51:13.664568Z",
     "iopub.status.busy": "2021-02-04T01:51:13.663185Z",
     "iopub.status.idle": "2021-02-04T01:51:13.678729Z",
     "shell.execute_reply": "2021-02-04T01:51:13.678157Z"
    },
    "papermill": {
     "duration": 0.047103,
     "end_time": "2021-02-04T01:51:13.678863",
     "exception": false,
     "start_time": "2021-02-04T01:51:13.631760",
     "status": "completed"
    },
    "tags": []
   },
   "outputs": [
    {
     "name": "stdout",
     "output_type": "stream",
     "text": [
      "    lhs          rhs                  support     confidence coverage  lift    \n",
      "[1] {berries} => {whipped/sour cream} 0.009049314 0.2721713  0.0332486 3.796886\n",
      "[2] {berries} => {yogurt}             0.010574479 0.3180428  0.0332486 2.279848\n",
      "[3] {berries} => {other vegetables}   0.010269446 0.3088685  0.0332486 1.596280\n",
      "[4] {berries} => {whole milk}         0.011794611 0.3547401  0.0332486 1.388328\n",
      "    count\n",
      "[1]  89  \n",
      "[2] 104  \n",
      "[3] 101  \n",
      "[4] 116  \n"
     ]
    }
   ],
   "source": [
    "inspect(berryrules)"
   ]
  },
  {
   "cell_type": "code",
   "execution_count": 21,
   "metadata": {
    "execution": {
     "iopub.execute_input": "2021-02-04T01:51:13.741116Z",
     "iopub.status.busy": "2021-02-04T01:51:13.739758Z",
     "iopub.status.idle": "2021-02-04T01:51:13.751104Z",
     "shell.execute_reply": "2021-02-04T01:51:13.750470Z"
    },
    "papermill": {
     "duration": 0.043804,
     "end_time": "2021-02-04T01:51:13.751331",
     "exception": false,
     "start_time": "2021-02-04T01:51:13.707527",
     "status": "completed"
    },
    "tags": []
   },
   "outputs": [],
   "source": [
    "# podemos recomendar al supermercado que venda moras junto a la crema agria si un consumidor compra bayas es posible que también compre crema agria\n",
    "# we can recommend the supermarket to sell berries near of sour cream if a consumer buys berries they may also buy sour cream"
   ]
  }
 ],
 "metadata": {
  "kernelspec": {
   "display_name": "R",
   "language": "R",
   "name": "ir"
  },
  "language_info": {
   "codemirror_mode": "r",
   "file_extension": ".r",
   "mimetype": "text/x-r-source",
   "name": "R",
   "pygments_lexer": "r",
   "version": "3.6.3"
  },
  "papermill": {
   "default_parameters": {},
   "duration": 12.010581,
   "end_time": "2021-02-04T01:51:13.900803",
   "environment_variables": {},
   "exception": null,
   "input_path": "__notebook__.ipynb",
   "output_path": "__notebook__.ipynb",
   "parameters": {},
   "start_time": "2021-02-04T01:51:01.890222",
   "version": "2.2.2"
  }
 },
 "nbformat": 4,
 "nbformat_minor": 4
}
